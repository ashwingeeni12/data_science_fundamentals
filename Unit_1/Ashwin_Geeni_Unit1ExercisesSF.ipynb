{
  "nbformat": 4,
  "nbformat_minor": 0,
  "metadata": {
    "colab": {
      "provenance": [],
      "include_colab_link": true
    },
    "kernelspec": {
      "name": "python3",
      "display_name": "Python 3"
    },
    "language_info": {
      "name": "python"
    }
  },
  "cells": [
    {
      "cell_type": "markdown",
      "metadata": {
        "id": "view-in-github",
        "colab_type": "text"
      },
      "source": [
        "<a href=\"https://colab.research.google.com/github/ashwingeeni12/data_science_fundamentals/blob/main/Unit_1/Ashwin_Geeni_Unit1ExercisesSF.ipynb\" target=\"_parent\"><img src=\"https://colab.research.google.com/assets/colab-badge.svg\" alt=\"Open In Colab\"/></a>"
      ]
    },
    {
      "cell_type": "markdown",
      "source": [
        "# Unit 1 Exercises: Data Structure Concepts\n",
        "\n",
        "The following questions will ask you to describe the various objects we learned about in the first Unit.\n",
        "\n",
        "I'm not giving you coding exercises, because we will learn all the coding technqiues we need as we move through the course.\n",
        "\n",
        "What I do need from you right now, is a conceptual understanding how how data is stored in our computer, when we use python."
      ],
      "metadata": {
        "id": "65OCktLjbZmA"
      }
    },
    {
      "cell_type": "markdown",
      "source": [
        "**Task1**:\n",
        "\n",
        "Describe the similarities and differences between an int and a float in python."
      ],
      "metadata": {
        "id": "bt0bWe1evLtv"
      }
    },
    {
      "cell_type": "markdown",
      "source": [
        "**Answer1**:\n",
        "\n",
        "Both int's and float's are numbers in python that can be positive or negative, but floats can take in decimal digits. Int's have a limit of 32 bits while floats have a limit of 64 with the mantissa, digits past the decimal, having a limit of 52 bytes. However, ints can be longer if directly specified but at that point just use a long. The maximum and minimum size of both floats and ints can change based on how many bits your OS is, but on chromebooks I believe it is a 32 bit. When working with whole numbers and not decimals ints are more precise than floats due to the mantissa taking up majority of the bits so when multiplying big numbers you will have truncating errors with floats."
      ],
      "metadata": {
        "id": "FW3KHt4yvt90"
      }
    },
    {
      "cell_type": "markdown",
      "source": [
        "**Task2**:\n",
        "\n",
        "Describe the similarities and differences between: strings, lists, and dicts."
      ],
      "metadata": {
        "id": "mJ_i6he5wwgr"
      }
    },
    {
      "cell_type": "markdown",
      "source": [
        "**Answer2**:\n",
        "\n",
        "Strings, lists, and dicts are similar as they both use indexes and are mutable. Strings can use any chacter, number, etc and it is enclosed in double quotation marks, single quotes, or triple quotes for a multi-line string. `\"THIS is a string\", 'This is also a string', '''This is a string''', \"\"\"so is this\"\"\"`. You can extract certain parts of string by using a colon, index markers, and brackets. `\"abcd\"[0:1]` would give a when printed. A list is an array of any datatype shown by using brackets and commas to seperate entries. `list = [\"a\", 1, [\"nested list\", \"cool\"], 4.159]`. You can also extract entries like a string by using a similar syntax of bracket and index but no colon. `list[0]` would give a as its result. A dict is a key value pair shown by using colons, curly braces, and commas. It would look like this `dict = {\"key\":\"value\",\"other\":2,\"cool\":[1,2,3,4,5]}`. To get a value you do `dict[\"key\"]` and it would return the string value.\n"
      ],
      "metadata": {
        "id": "iFu5BKyWw98T"
      }
    },
    {
      "cell_type": "markdown",
      "source": [
        "**Task3**:\n",
        "\n",
        "What is a numpy array? Why would we ever use one over a list or dict?"
      ],
      "metadata": {
        "id": "56v05s45yBHk"
      }
    },
    {
      "cell_type": "markdown",
      "source": [
        "**Answer3**:\n",
        "\n",
        "A numpy array is very similar to lists except they are immutable and only contain 1 datatype. They also have a ton more functionality as there are a ton of functions that makes lists really fast, and even 3d. Another functionality that makes it really nice for scientific computing is that it automaticly converts to the best data type. For example if the array had a string, float, and int it would convert them all to a string because it would allow for all of the datatypes to be housed. We could also specify datatypes so only certain datatypes will be allowed in the numpy array.\n",
        "We would use one over a list or dict because it is a lot easier to create big lists that are prefilled, create matrixes that are prefilled, utilize vector operations, and make sure only certain datatypes are in a array."
      ],
      "metadata": {
        "id": "eikgxyNzyLTY"
      }
    },
    {
      "cell_type": "markdown",
      "source": [
        "**Task4**:\n",
        "\n",
        "What is a pandas dataframe? Why would we ever want to use one over a numpy array?"
      ],
      "metadata": {
        "id": "RLaEQ5irywBl"
      }
    },
    {
      "cell_type": "markdown",
      "source": [
        "**Answer4**:\n",
        "\n",
        "Panda dataframe is a different way to view an list. It is built on top of numpy so it has a lot of the same functionality as numpy. You would want to use one over numpy because it looks better as numpy is just plain text while panda dataframes have their own UI and you can see row names and column names. We can utilize these row/column names directly when sort through the spreadsheet while numpy you have to use directly index values."
      ],
      "metadata": {
        "id": "5IkNlzYpy-HP"
      }
    },
    {
      "cell_type": "markdown",
      "source": [
        "**Task5**:\n",
        "\n",
        "What are for loops, and why would we ever use them?"
      ],
      "metadata": {
        "id": "khRn2d7qz1Y2"
      }
    },
    {
      "cell_type": "markdown",
      "source": [
        "**Answer5**:\n",
        "\n",
        "For loops are a way to iterate through data or through numbers from a specified length. We would use them whenever we want to get positons in data and utilize them or when we want to compare specifice data, in this unit we mainly used them for filtering through data that can't be filtered through .query()."
      ],
      "metadata": {
        "id": "NAdVfRZB1d9J"
      }
    }
  ]
}