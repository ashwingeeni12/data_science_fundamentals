{
 "cells": [
  {
   "cell_type": "code",
   "execution_count": 1,
   "id": "e3ad2446",
   "metadata": {},
   "outputs": [],
   "source": [
    "import torch\n",
    "import numpy as np\n",
    "from torch import nn\n",
    "import pandas as pd\n",
    "import sklearn\n",
    "import seaborn as sns\n",
    "from sklearn.model_selection import train_test_split\n",
    "from sklearn.preprocessing import StandardScaler\n",
    "import matplotlib.pyplot as plt"
   ]
  },
  {
   "cell_type": "markdown",
   "id": "123cae93",
   "metadata": {},
   "source": [
    "# What is my project?"
   ]
  },
  {
   "cell_type": "markdown",
   "id": "74c9b617",
   "metadata": {},
   "source": [
    "In this project, I developed a multi-layer neural network to perform a regression task on a Valorant player statistics dataset containing data from the 2023 Champions run. This is the same data I used for Unit 3 and 7. The goal is to predict ACS (Average Combat Score, a generalized statistic used to describe player performance) from ADPR and KPR as from my Unit 7 project I identified ADPR and KPR as strong indicators of ACS, but in that same project the GLM had the best elpd_loo. However, when looking at my data I don't believe it is purely linear so it would be interesting to see how a neural network handles this task. I also want to make a 2nd NN where headshot is predicting ACS because I know that headshot isn't a linear predictor (as the best player in the world right now has a headshot of ~20% while the highest headshot is at 47% and that player is near the bottom) so it would be interesting to see the interaction there. I don't want to include it in a single neural network because I know from previous projects that it isn't that strong of a predictor, but it would be interesting to see how the NN handles it. "
   ]
  },
  {
   "cell_type": "markdown",
   "id": "9f14a01c",
   "metadata": {},
   "source": [
    "# The Data..."
   ]
  },
  {
   "cell_type": "code",
   "execution_count": 76,
   "id": "bd5c5001",
   "metadata": {},
   "outputs": [],
   "source": [
    "data = pd.read_csv(\"https://raw.githubusercontent.com/ashwingeeni12/data_science_fundamentals/refs/heads/main/Unit_3/players_stats.csv\")"
   ]
  },
  {
   "cell_type": "code",
   "execution_count": 77,
   "id": "90af60c7",
   "metadata": {},
   "outputs": [],
   "source": [
    "data = data.query('Tournament == \"Valorant Champions 2023\" & ~Agents.str.contains(\",\") & `Match Type` == \"All Match Types\"')"
   ]
  },
  {
   "cell_type": "code",
   "execution_count": 78,
   "id": "5c1f7c18",
   "metadata": {},
   "outputs": [
    {
     "data": {
      "text/html": [
       "<div>\n",
       "<style scoped>\n",
       "    .dataframe tbody tr th:only-of-type {\n",
       "        vertical-align: middle;\n",
       "    }\n",
       "\n",
       "    .dataframe tbody tr th {\n",
       "        vertical-align: top;\n",
       "    }\n",
       "\n",
       "    .dataframe thead th {\n",
       "        text-align: right;\n",
       "    }\n",
       "</style>\n",
       "<table border=\"1\" class=\"dataframe\">\n",
       "  <thead>\n",
       "    <tr style=\"text-align: right;\">\n",
       "      <th></th>\n",
       "      <th>Tournament</th>\n",
       "      <th>Stage</th>\n",
       "      <th>Match Type</th>\n",
       "      <th>Player</th>\n",
       "      <th>Teams</th>\n",
       "      <th>Agents</th>\n",
       "      <th>Rounds Played</th>\n",
       "      <th>Rating</th>\n",
       "      <th>Average Combat Score</th>\n",
       "      <th>Kills:Deaths</th>\n",
       "      <th>...</th>\n",
       "      <th>First Deaths Per Round</th>\n",
       "      <th>Headshot %</th>\n",
       "      <th>Clutch Success %</th>\n",
       "      <th>Clutches (won/played)</th>\n",
       "      <th>Maximum Kills in a Single Map</th>\n",
       "      <th>Kills</th>\n",
       "      <th>Deaths</th>\n",
       "      <th>Assists</th>\n",
       "      <th>First Kills</th>\n",
       "      <th>First Deaths</th>\n",
       "    </tr>\n",
       "  </thead>\n",
       "  <tbody>\n",
       "    <tr>\n",
       "      <th>2008</th>\n",
       "      <td>Valorant Champions 2023</td>\n",
       "      <td>All Stages</td>\n",
       "      <td>All Match Types</td>\n",
       "      <td>d4v41</td>\n",
       "      <td>Paper Rex</td>\n",
       "      <td>kayo</td>\n",
       "      <td>24</td>\n",
       "      <td>1.42</td>\n",
       "      <td>254.0</td>\n",
       "      <td>1.71</td>\n",
       "      <td>...</td>\n",
       "      <td>0.00</td>\n",
       "      <td>31%</td>\n",
       "      <td>20%</td>\n",
       "      <td>5-Jan</td>\n",
       "      <td>24</td>\n",
       "      <td>24</td>\n",
       "      <td>14</td>\n",
       "      <td>13</td>\n",
       "      <td>0</td>\n",
       "      <td>0</td>\n",
       "    </tr>\n",
       "    <tr>\n",
       "      <th>2009</th>\n",
       "      <td>Valorant Champions 2023</td>\n",
       "      <td>All Stages</td>\n",
       "      <td>All Match Types</td>\n",
       "      <td>d4v41</td>\n",
       "      <td>Paper Rex</td>\n",
       "      <td>killjoy</td>\n",
       "      <td>20</td>\n",
       "      <td>0.99</td>\n",
       "      <td>172.0</td>\n",
       "      <td>0.92</td>\n",
       "      <td>...</td>\n",
       "      <td>0.00</td>\n",
       "      <td>35%</td>\n",
       "      <td>67%</td>\n",
       "      <td>3-Feb</td>\n",
       "      <td>12</td>\n",
       "      <td>12</td>\n",
       "      <td>13</td>\n",
       "      <td>4</td>\n",
       "      <td>2</td>\n",
       "      <td>0</td>\n",
       "    </tr>\n",
       "    <tr>\n",
       "      <th>2010</th>\n",
       "      <td>Valorant Champions 2023</td>\n",
       "      <td>All Stages</td>\n",
       "      <td>All Match Types</td>\n",
       "      <td>d4v41</td>\n",
       "      <td>Paper Rex</td>\n",
       "      <td>viper</td>\n",
       "      <td>58</td>\n",
       "      <td>0.95</td>\n",
       "      <td>168.0</td>\n",
       "      <td>0.84</td>\n",
       "      <td>...</td>\n",
       "      <td>0.05</td>\n",
       "      <td>25%</td>\n",
       "      <td>10%</td>\n",
       "      <td>10-Jan</td>\n",
       "      <td>15</td>\n",
       "      <td>32</td>\n",
       "      <td>38</td>\n",
       "      <td>12</td>\n",
       "      <td>2</td>\n",
       "      <td>3</td>\n",
       "    </tr>\n",
       "    <tr>\n",
       "      <th>2011</th>\n",
       "      <td>Valorant Champions 2023</td>\n",
       "      <td>All Stages</td>\n",
       "      <td>All Match Types</td>\n",
       "      <td>d4v41</td>\n",
       "      <td>Paper Rex</td>\n",
       "      <td>skye</td>\n",
       "      <td>256</td>\n",
       "      <td>1.10</td>\n",
       "      <td>196.0</td>\n",
       "      <td>1.08</td>\n",
       "      <td>...</td>\n",
       "      <td>0.02</td>\n",
       "      <td>31%</td>\n",
       "      <td>13%</td>\n",
       "      <td>30-Apr</td>\n",
       "      <td>23</td>\n",
       "      <td>175</td>\n",
       "      <td>162</td>\n",
       "      <td>124</td>\n",
       "      <td>9</td>\n",
       "      <td>6</td>\n",
       "    </tr>\n",
       "    <tr>\n",
       "      <th>2013</th>\n",
       "      <td>Valorant Champions 2023</td>\n",
       "      <td>All Stages</td>\n",
       "      <td>All Match Types</td>\n",
       "      <td>mindfreak</td>\n",
       "      <td>Paper Rex</td>\n",
       "      <td>astra</td>\n",
       "      <td>177</td>\n",
       "      <td>1.04</td>\n",
       "      <td>167.0</td>\n",
       "      <td>1.05</td>\n",
       "      <td>...</td>\n",
       "      <td>0.05</td>\n",
       "      <td>29%</td>\n",
       "      <td>19%</td>\n",
       "      <td>Jun-32</td>\n",
       "      <td>23</td>\n",
       "      <td>109</td>\n",
       "      <td>104</td>\n",
       "      <td>71</td>\n",
       "      <td>7</td>\n",
       "      <td>9</td>\n",
       "    </tr>\n",
       "    <tr>\n",
       "      <th>...</th>\n",
       "      <td>...</td>\n",
       "      <td>...</td>\n",
       "      <td>...</td>\n",
       "      <td>...</td>\n",
       "      <td>...</td>\n",
       "      <td>...</td>\n",
       "      <td>...</td>\n",
       "      <td>...</td>\n",
       "      <td>...</td>\n",
       "      <td>...</td>\n",
       "      <td>...</td>\n",
       "      <td>...</td>\n",
       "      <td>...</td>\n",
       "      <td>...</td>\n",
       "      <td>...</td>\n",
       "      <td>...</td>\n",
       "      <td>...</td>\n",
       "      <td>...</td>\n",
       "      <td>...</td>\n",
       "      <td>...</td>\n",
       "      <td>...</td>\n",
       "    </tr>\n",
       "    <tr>\n",
       "      <th>2303</th>\n",
       "      <td>Valorant Champions 2023</td>\n",
       "      <td>All Stages</td>\n",
       "      <td>All Match Types</td>\n",
       "      <td>xeta</td>\n",
       "      <td>T1</td>\n",
       "      <td>sova</td>\n",
       "      <td>20</td>\n",
       "      <td>0.97</td>\n",
       "      <td>189.0</td>\n",
       "      <td>0.86</td>\n",
       "      <td>...</td>\n",
       "      <td>0.10</td>\n",
       "      <td>17%</td>\n",
       "      <td>NaN</td>\n",
       "      <td>0/1</td>\n",
       "      <td>12</td>\n",
       "      <td>12</td>\n",
       "      <td>14</td>\n",
       "      <td>4</td>\n",
       "      <td>0</td>\n",
       "      <td>2</td>\n",
       "    </tr>\n",
       "    <tr>\n",
       "      <th>2305</th>\n",
       "      <td>Valorant Champions 2023</td>\n",
       "      <td>All Stages</td>\n",
       "      <td>All Match Types</td>\n",
       "      <td>ban</td>\n",
       "      <td>T1</td>\n",
       "      <td>harbor</td>\n",
       "      <td>86</td>\n",
       "      <td>0.84</td>\n",
       "      <td>178.0</td>\n",
       "      <td>0.83</td>\n",
       "      <td>...</td>\n",
       "      <td>0.16</td>\n",
       "      <td>31%</td>\n",
       "      <td>20%</td>\n",
       "      <td>10-Feb</td>\n",
       "      <td>16</td>\n",
       "      <td>55</td>\n",
       "      <td>66</td>\n",
       "      <td>31</td>\n",
       "      <td>2</td>\n",
       "      <td>14</td>\n",
       "    </tr>\n",
       "    <tr>\n",
       "      <th>2306</th>\n",
       "      <td>Valorant Champions 2023</td>\n",
       "      <td>All Stages</td>\n",
       "      <td>All Match Types</td>\n",
       "      <td>ban</td>\n",
       "      <td>T1</td>\n",
       "      <td>omen</td>\n",
       "      <td>43</td>\n",
       "      <td>0.88</td>\n",
       "      <td>173.0</td>\n",
       "      <td>0.78</td>\n",
       "      <td>...</td>\n",
       "      <td>0.05</td>\n",
       "      <td>39%</td>\n",
       "      <td>NaN</td>\n",
       "      <td>0/9</td>\n",
       "      <td>15</td>\n",
       "      <td>25</td>\n",
       "      <td>32</td>\n",
       "      <td>12</td>\n",
       "      <td>4</td>\n",
       "      <td>2</td>\n",
       "    </tr>\n",
       "    <tr>\n",
       "      <th>2308</th>\n",
       "      <td>Valorant Champions 2023</td>\n",
       "      <td>All Stages</td>\n",
       "      <td>All Match Types</td>\n",
       "      <td>Sayaplayer</td>\n",
       "      <td>T1</td>\n",
       "      <td>jett</td>\n",
       "      <td>106</td>\n",
       "      <td>1.07</td>\n",
       "      <td>224.0</td>\n",
       "      <td>1.08</td>\n",
       "      <td>...</td>\n",
       "      <td>0.09</td>\n",
       "      <td>27%</td>\n",
       "      <td>31%</td>\n",
       "      <td>13-Apr</td>\n",
       "      <td>20</td>\n",
       "      <td>84</td>\n",
       "      <td>78</td>\n",
       "      <td>12</td>\n",
       "      <td>19</td>\n",
       "      <td>10</td>\n",
       "    </tr>\n",
       "    <tr>\n",
       "      <th>2309</th>\n",
       "      <td>Valorant Champions 2023</td>\n",
       "      <td>All Stages</td>\n",
       "      <td>All Match Types</td>\n",
       "      <td>Sayaplayer</td>\n",
       "      <td>T1</td>\n",
       "      <td>raze</td>\n",
       "      <td>23</td>\n",
       "      <td>1.17</td>\n",
       "      <td>266.0</td>\n",
       "      <td>1.31</td>\n",
       "      <td>...</td>\n",
       "      <td>0.09</td>\n",
       "      <td>22%</td>\n",
       "      <td>NaN</td>\n",
       "      <td>0/3</td>\n",
       "      <td>21</td>\n",
       "      <td>21</td>\n",
       "      <td>16</td>\n",
       "      <td>3</td>\n",
       "      <td>4</td>\n",
       "      <td>2</td>\n",
       "    </tr>\n",
       "  </tbody>\n",
       "</table>\n",
       "<p>226 rows × 25 columns</p>\n",
       "</div>"
      ],
      "text/plain": [
       "                   Tournament       Stage       Match Type      Player  \\\n",
       "2008  Valorant Champions 2023  All Stages  All Match Types       d4v41   \n",
       "2009  Valorant Champions 2023  All Stages  All Match Types       d4v41   \n",
       "2010  Valorant Champions 2023  All Stages  All Match Types       d4v41   \n",
       "2011  Valorant Champions 2023  All Stages  All Match Types       d4v41   \n",
       "2013  Valorant Champions 2023  All Stages  All Match Types   mindfreak   \n",
       "...                       ...         ...              ...         ...   \n",
       "2303  Valorant Champions 2023  All Stages  All Match Types        xeta   \n",
       "2305  Valorant Champions 2023  All Stages  All Match Types         ban   \n",
       "2306  Valorant Champions 2023  All Stages  All Match Types         ban   \n",
       "2308  Valorant Champions 2023  All Stages  All Match Types  Sayaplayer   \n",
       "2309  Valorant Champions 2023  All Stages  All Match Types  Sayaplayer   \n",
       "\n",
       "          Teams   Agents  Rounds Played  Rating  Average Combat Score  \\\n",
       "2008  Paper Rex     kayo             24    1.42                 254.0   \n",
       "2009  Paper Rex  killjoy             20    0.99                 172.0   \n",
       "2010  Paper Rex    viper             58    0.95                 168.0   \n",
       "2011  Paper Rex     skye            256    1.10                 196.0   \n",
       "2013  Paper Rex    astra            177    1.04                 167.0   \n",
       "...         ...      ...            ...     ...                   ...   \n",
       "2303         T1     sova             20    0.97                 189.0   \n",
       "2305         T1   harbor             86    0.84                 178.0   \n",
       "2306         T1     omen             43    0.88                 173.0   \n",
       "2308         T1     jett            106    1.07                 224.0   \n",
       "2309         T1     raze             23    1.17                 266.0   \n",
       "\n",
       "      Kills:Deaths  ... First Deaths Per Round  Headshot %  Clutch Success %  \\\n",
       "2008          1.71  ...                   0.00         31%               20%   \n",
       "2009          0.92  ...                   0.00         35%               67%   \n",
       "2010          0.84  ...                   0.05         25%               10%   \n",
       "2011          1.08  ...                   0.02         31%               13%   \n",
       "2013          1.05  ...                   0.05         29%               19%   \n",
       "...            ...  ...                    ...         ...               ...   \n",
       "2303          0.86  ...                   0.10         17%               NaN   \n",
       "2305          0.83  ...                   0.16         31%               20%   \n",
       "2306          0.78  ...                   0.05         39%               NaN   \n",
       "2308          1.08  ...                   0.09         27%               31%   \n",
       "2309          1.31  ...                   0.09         22%               NaN   \n",
       "\n",
       "      Clutches (won/played)  Maximum Kills in a Single Map  Kills Deaths  \\\n",
       "2008                  5-Jan                             24     24     14   \n",
       "2009                  3-Feb                             12     12     13   \n",
       "2010                 10-Jan                             15     32     38   \n",
       "2011                 30-Apr                             23    175    162   \n",
       "2013                 Jun-32                             23    109    104   \n",
       "...                     ...                            ...    ...    ...   \n",
       "2303                    0/1                             12     12     14   \n",
       "2305                 10-Feb                             16     55     66   \n",
       "2306                    0/9                             15     25     32   \n",
       "2308                 13-Apr                             20     84     78   \n",
       "2309                    0/3                             21     21     16   \n",
       "\n",
       "     Assists First Kills  First Deaths  \n",
       "2008      13           0             0  \n",
       "2009       4           2             0  \n",
       "2010      12           2             3  \n",
       "2011     124           9             6  \n",
       "2013      71           7             9  \n",
       "...      ...         ...           ...  \n",
       "2303       4           0             2  \n",
       "2305      31           2            14  \n",
       "2306      12           4             2  \n",
       "2308      12          19            10  \n",
       "2309       3           4             2  \n",
       "\n",
       "[226 rows x 25 columns]"
      ]
     },
     "execution_count": 78,
     "metadata": {},
     "output_type": "execute_result"
    }
   ],
   "source": [
    "data"
   ]
  },
  {
   "cell_type": "code",
   "execution_count": 79,
   "id": "60c83577",
   "metadata": {},
   "outputs": [
    {
     "name": "stderr",
     "output_type": "stream",
     "text": [
      "C:\\Users\\ashwi\\AppData\\Local\\Temp\\ipykernel_7576\\1210349704.py:2: SettingWithCopyWarning: \n",
      "A value is trying to be set on a copy of a slice from a DataFrame.\n",
      "Try using .loc[row_indexer,col_indexer] = value instead\n",
      "\n",
      "See the caveats in the documentation: https://pandas.pydata.org/pandas-docs/stable/user_guide/indexing.html#returning-a-view-versus-a-copy\n",
      "  dataNN['Headshot %'] = dataNN['Headshot %'].str.rstrip('%').astype('float')\n"
     ]
    }
   ],
   "source": [
    "dataNN = data[['Average Combat Score', 'Kills Per Round', 'Average Damage Per Round', 'Headshot %']]\n",
    "dataNN['Headshot %'] = dataNN['Headshot %'].str.rstrip('%').astype('float')\n",
    "dataNN = dataNN.dropna()"
   ]
  },
  {
   "cell_type": "code",
   "execution_count": 80,
   "id": "2f17c616",
   "metadata": {},
   "outputs": [],
   "source": [
    "dataNN = dataNN.rename(columns={'Average Combat Score' : 'ACS', 'Average Damage Per Round' : 'ADPR', 'Kills Per Round': 'KPR', 'Headshot %': 'HS%'})"
   ]
  },
  {
   "cell_type": "code",
   "execution_count": 81,
   "id": "7144a19d",
   "metadata": {},
   "outputs": [
    {
     "data": {
      "text/html": [
       "<div>\n",
       "<style scoped>\n",
       "    .dataframe tbody tr th:only-of-type {\n",
       "        vertical-align: middle;\n",
       "    }\n",
       "\n",
       "    .dataframe tbody tr th {\n",
       "        vertical-align: top;\n",
       "    }\n",
       "\n",
       "    .dataframe thead th {\n",
       "        text-align: right;\n",
       "    }\n",
       "</style>\n",
       "<table border=\"1\" class=\"dataframe\">\n",
       "  <thead>\n",
       "    <tr style=\"text-align: right;\">\n",
       "      <th></th>\n",
       "      <th>ACS</th>\n",
       "      <th>KPR</th>\n",
       "      <th>ADPR</th>\n",
       "      <th>HS%</th>\n",
       "    </tr>\n",
       "  </thead>\n",
       "  <tbody>\n",
       "    <tr>\n",
       "      <th>2008</th>\n",
       "      <td>254.0</td>\n",
       "      <td>1.00</td>\n",
       "      <td>172.0</td>\n",
       "      <td>31.0</td>\n",
       "    </tr>\n",
       "    <tr>\n",
       "      <th>2009</th>\n",
       "      <td>172.0</td>\n",
       "      <td>0.60</td>\n",
       "      <td>132.0</td>\n",
       "      <td>35.0</td>\n",
       "    </tr>\n",
       "    <tr>\n",
       "      <th>2010</th>\n",
       "      <td>168.0</td>\n",
       "      <td>0.55</td>\n",
       "      <td>120.0</td>\n",
       "      <td>25.0</td>\n",
       "    </tr>\n",
       "    <tr>\n",
       "      <th>2011</th>\n",
       "      <td>196.0</td>\n",
       "      <td>0.68</td>\n",
       "      <td>125.0</td>\n",
       "      <td>31.0</td>\n",
       "    </tr>\n",
       "    <tr>\n",
       "      <th>2013</th>\n",
       "      <td>167.0</td>\n",
       "      <td>0.62</td>\n",
       "      <td>114.0</td>\n",
       "      <td>29.0</td>\n",
       "    </tr>\n",
       "    <tr>\n",
       "      <th>...</th>\n",
       "      <td>...</td>\n",
       "      <td>...</td>\n",
       "      <td>...</td>\n",
       "      <td>...</td>\n",
       "    </tr>\n",
       "    <tr>\n",
       "      <th>2303</th>\n",
       "      <td>189.0</td>\n",
       "      <td>0.60</td>\n",
       "      <td>133.0</td>\n",
       "      <td>17.0</td>\n",
       "    </tr>\n",
       "    <tr>\n",
       "      <th>2305</th>\n",
       "      <td>178.0</td>\n",
       "      <td>0.64</td>\n",
       "      <td>111.0</td>\n",
       "      <td>31.0</td>\n",
       "    </tr>\n",
       "    <tr>\n",
       "      <th>2306</th>\n",
       "      <td>173.0</td>\n",
       "      <td>0.58</td>\n",
       "      <td>108.0</td>\n",
       "      <td>39.0</td>\n",
       "    </tr>\n",
       "    <tr>\n",
       "      <th>2308</th>\n",
       "      <td>224.0</td>\n",
       "      <td>0.79</td>\n",
       "      <td>146.0</td>\n",
       "      <td>27.0</td>\n",
       "    </tr>\n",
       "    <tr>\n",
       "      <th>2309</th>\n",
       "      <td>266.0</td>\n",
       "      <td>0.91</td>\n",
       "      <td>179.0</td>\n",
       "      <td>22.0</td>\n",
       "    </tr>\n",
       "  </tbody>\n",
       "</table>\n",
       "<p>225 rows × 4 columns</p>\n",
       "</div>"
      ],
      "text/plain": [
       "        ACS   KPR   ADPR   HS%\n",
       "2008  254.0  1.00  172.0  31.0\n",
       "2009  172.0  0.60  132.0  35.0\n",
       "2010  168.0  0.55  120.0  25.0\n",
       "2011  196.0  0.68  125.0  31.0\n",
       "2013  167.0  0.62  114.0  29.0\n",
       "...     ...   ...    ...   ...\n",
       "2303  189.0  0.60  133.0  17.0\n",
       "2305  178.0  0.64  111.0  31.0\n",
       "2306  173.0  0.58  108.0  39.0\n",
       "2308  224.0  0.79  146.0  27.0\n",
       "2309  266.0  0.91  179.0  22.0\n",
       "\n",
       "[225 rows x 4 columns]"
      ]
     },
     "execution_count": 81,
     "metadata": {},
     "output_type": "execute_result"
    }
   ],
   "source": [
    "dataNN"
   ]
  },
  {
   "cell_type": "code",
   "execution_count": 82,
   "id": "979cf68b",
   "metadata": {},
   "outputs": [],
   "source": [
    "matrix = dataNN.to_numpy()\n",
    "tensor = torch.from_numpy(matrix)"
   ]
  },
  {
   "cell_type": "code",
   "execution_count": 83,
   "id": "72edad79",
   "metadata": {},
   "outputs": [
    {
     "data": {
      "text/plain": [
       "torch.Size([225, 4])"
      ]
     },
     "execution_count": 83,
     "metadata": {},
     "output_type": "execute_result"
    }
   ],
   "source": [
    "tensor.shape"
   ]
  },
  {
   "cell_type": "markdown",
   "id": "582c3cdc",
   "metadata": {},
   "source": [
    "# ADPR and KPR predicting ACS "
   ]
  },
  {
   "cell_type": "code",
   "execution_count": 84,
   "id": "81f0d948",
   "metadata": {},
   "outputs": [],
   "source": [
    "X_np = dataNN[['ADPR', 'KPR']].to_numpy()\n",
    "y_np = dataNN['ACS'].to_numpy()"
   ]
  },
  {
   "cell_type": "code",
   "execution_count": 85,
   "id": "7214b8fd",
   "metadata": {},
   "outputs": [],
   "source": [
    "scaler = StandardScaler()\n",
    "X_scaled = scaler.fit_transform(X_np)  \n",
    "\n",
    "X_train, X_test, y_train, y_test = train_test_split(\n",
    "    X_scaled, y_np, test_size=0.2, random_state=42\n",
    ")\n",
    "\n",
    "X_train = torch.tensor(X_train, dtype=torch.float32)\n",
    "X_test  = torch.tensor(X_test,  dtype=torch.float32)\n",
    "y_train = torch.tensor(y_train, dtype=torch.float32).unsqueeze(1)\n",
    "y_test  = torch.tensor(y_test,  dtype=torch.float32).unsqueeze(1)"
   ]
  },
  {
   "cell_type": "code",
   "execution_count": null,
   "id": "bb2b8e4c",
   "metadata": {},
   "outputs": [],
   "source": [
    "model_1 = nn.Sequential(\n",
    "    nn.Linear(2, 16),  \n",
    "    nn.ReLU(),\n",
    "    nn.Linear(16, 8),  \n",
    "    nn.ReLU(),\n",
    "    nn.Linear(8, 1)\n",
    ")"
   ]
  },
  {
   "cell_type": "code",
   "execution_count": 87,
   "id": "2627918a",
   "metadata": {},
   "outputs": [],
   "source": [
    "loss_fn = nn.MSELoss()\n",
    "optimizer = torch.optim.SGD(model_1.parameters(), lr=0.0001)"
   ]
  },
  {
   "cell_type": "code",
   "execution_count": 88,
   "id": "f5bcafed",
   "metadata": {},
   "outputs": [],
   "source": [
    "model_1 = model_1.float()"
   ]
  },
  {
   "cell_type": "code",
   "execution_count": 89,
   "id": "a421519a",
   "metadata": {},
   "outputs": [
    {
     "name": "stdout",
     "output_type": "stream",
     "text": [
      "Epoch:     0 | Train loss: 38605.19531, Test loss: 38818.26562\n",
      "Epoch:   200 | Train loss: 82.90628, Test loss: 77.29592\n",
      "Epoch:   400 | Train loss: 72.94887, Test loss: 64.27857\n",
      "Epoch:   600 | Train loss: 70.37933, Test loss: 61.03805\n",
      "Epoch:   800 | Train loss: 69.29084, Test loss: 59.76074\n",
      "Epoch:  1000 | Train loss: 68.71902, Test loss: 59.13774\n",
      "Epoch:  1200 | Train loss: 68.36418, Test loss: 58.77315\n",
      "Epoch:  1400 | Train loss: 68.10736, Test loss: 58.51741\n",
      "Epoch:  1600 | Train loss: 67.89709, Test loss: 58.30983\n",
      "Epoch:  1800 | Train loss: 67.71040, Test loss: 58.12506\n",
      "Epoch:  2000 | Train loss: 67.53692, Test loss: 57.95241\n",
      "Epoch:  2200 | Train loss: 67.37187, Test loss: 57.78725\n",
      "Epoch:  2400 | Train loss: 67.21288, Test loss: 57.62770\n",
      "Epoch:  2600 | Train loss: 67.05884, Test loss: 57.47261\n",
      "Epoch:  2800 | Train loss: 66.90913, Test loss: 57.32177\n",
      "Epoch:  3000 | Train loss: 66.76333, Test loss: 57.17486\n",
      "Epoch:  3200 | Train loss: 66.62128, Test loss: 57.03158\n",
      "Epoch:  3400 | Train loss: 66.48284, Test loss: 56.89198\n",
      "Epoch:  3600 | Train loss: 66.34789, Test loss: 56.75583\n",
      "Epoch:  3800 | Train loss: 66.21632, Test loss: 56.62304\n",
      "Epoch:  4000 | Train loss: 66.08801, Test loss: 56.49359\n",
      "Epoch:  4200 | Train loss: 65.96294, Test loss: 56.36726\n",
      "Epoch:  4400 | Train loss: 65.84102, Test loss: 56.24412\n",
      "Epoch:  4600 | Train loss: 65.72214, Test loss: 56.12396\n",
      "Epoch:  4800 | Train loss: 65.60629, Test loss: 56.00669\n",
      "Epoch:  5000 | Train loss: 65.49338, Test loss: 55.89235\n",
      "Epoch:  5200 | Train loss: 65.38332, Test loss: 55.78072\n",
      "Epoch:  5400 | Train loss: 65.27602, Test loss: 55.67178\n",
      "Epoch:  5600 | Train loss: 65.17149, Test loss: 55.56549\n",
      "Epoch:  5800 | Train loss: 65.06960, Test loss: 55.46172\n",
      "Epoch:  6000 | Train loss: 64.97028, Test loss: 55.36044\n",
      "Epoch:  6200 | Train loss: 64.87350, Test loss: 55.26159\n",
      "Epoch:  6400 | Train loss: 64.77920, Test loss: 55.16508\n",
      "Epoch:  6600 | Train loss: 64.68729, Test loss: 55.07078\n",
      "Epoch:  6800 | Train loss: 64.59769, Test loss: 54.97879\n",
      "Epoch:  7000 | Train loss: 64.51041, Test loss: 54.88887\n",
      "Epoch:  7200 | Train loss: 64.42532, Test loss: 54.80109\n",
      "Epoch:  7400 | Train loss: 64.34238, Test loss: 54.71537\n",
      "Epoch:  7600 | Train loss: 64.26154, Test loss: 54.63166\n",
      "Epoch:  7800 | Train loss: 64.18278, Test loss: 54.54983\n",
      "Epoch:  8000 | Train loss: 64.10597, Test loss: 54.46993\n",
      "Epoch:  8200 | Train loss: 64.03111, Test loss: 54.39178\n",
      "Epoch:  8400 | Train loss: 63.95814, Test loss: 54.31548\n",
      "Epoch:  8600 | Train loss: 63.88695, Test loss: 54.24087\n",
      "Epoch:  8800 | Train loss: 63.81760, Test loss: 54.16799\n",
      "Epoch:  9000 | Train loss: 63.74995, Test loss: 54.09679\n"
     ]
    }
   ],
   "source": [
    "epochs = 9200\n",
    "for epoch in range(epochs):\n",
    "    model_1.train()\n",
    "    y_pred = model_1(X_train)                      \n",
    "    loss = loss_fn(y_pred, y_train)               \n",
    "\n",
    "    optimizer.zero_grad()                        \n",
    "    loss.backward()                                \n",
    "    optimizer.step()                           \n",
    "\n",
    "    model_1.eval()\n",
    "    with torch.inference_mode():\n",
    "        test_pred = model_1(X_test)\n",
    "        test_loss = loss_fn(test_pred, y_test)\n",
    "\n",
    "    if epoch % 200 == 0:\n",
    "        print(f\"Epoch: {epoch:5d} | Train loss: {loss:.5f}, Test loss: {test_loss:.5f}\")"
   ]
  },
  {
   "cell_type": "code",
   "execution_count": 90,
   "id": "7ab3182e",
   "metadata": {},
   "outputs": [],
   "source": [
    "model_1.eval()\n",
    "with torch.inference_mode():\n",
    "    y_preds = model_1(X_test)\n"
   ]
  },
  {
   "cell_type": "code",
   "execution_count": 91,
   "id": "e17a9330",
   "metadata": {},
   "outputs": [
    {
     "data": {
      "text/plain": [
       "<matplotlib.collections.PathCollection at 0x1dfdbe26c00>"
      ]
     },
     "execution_count": 91,
     "metadata": {},
     "output_type": "execute_result"
    },
    {
     "data": {
      "image/png": "[encoded data removed]",
      "text/plain": [
       "<Figure size 640x480 with 1 Axes>"
      ]
     },
     "metadata": {},
     "output_type": "display_data"
    }
   ],
   "source": [
    "plt.scatter(X_test[:,0].detach().numpy(),y_preds.detach().numpy())\n",
    "\n",
    "#plots test data\n",
    "plt.scatter(X_test[:,0].detach().numpy(),y_test.detach().numpy())"
   ]
  },
  {
   "cell_type": "markdown",
   "id": "4108946e",
   "metadata": {},
   "source": [
    "The first scatter shows how the model’s predictions and observed values line up against Average Damage Per Round (ADPR). There’s a clear upward trend as higher ADPR generally corresponds to higher ACS. The model captures this relationship really well. We are also able to get those curves towards the extremes that out linear model from the previous unit was unable to get. Even so at the extreme ADPR values the predictions begin to diverge (the lower ADPR values mainly) suggesting the network underfits the left tail of the distribution. This shows that while ADPR is a strong single predictor of ACS, the model’s capacity or training data at that extreme could be improved. But overall our model does do a really good job. "
   ]
  },
  {
   "cell_type": "code",
   "execution_count": 92,
   "id": "15d34b9c",
   "metadata": {},
   "outputs": [
    {
     "data": {
      "text/plain": [
       "<matplotlib.collections.PathCollection at 0x1dfdd7a1a90>"
      ]
     },
     "execution_count": 92,
     "metadata": {},
     "output_type": "execute_result"
    },
    {
     "data": {
      "image/png": "[encoded data removed]",
      "text/plain": [
       "<Figure size 640x480 with 1 Axes>"
      ]
     },
     "metadata": {},
     "output_type": "display_data"
    }
   ],
   "source": [
    "plt.scatter(X_test[:,1].detach().numpy(),y_preds.detach().numpy())\n",
    "\n",
    "#plots test data\n",
    "plt.scatter(X_test[:,1].detach().numpy(),y_test.detach().numpy())"
   ]
  },
  {
   "cell_type": "markdown",
   "id": "b553f3de",
   "metadata": {},
   "source": [
    "In the second scatter (kills per round, KPR), we again see a positive relationship with ACS, but the spread is noticeably wider than with ADPR. Although the network’s predictions follow the general upward trend, there’s more variance around the predicted. Many predicted values either overshoot or undershoot the real ACS for a given KPR. This suggests KPR carries signal but is a noisier indicator of overall combat performance than raw damage. The network may benefit from putting less weight on KPR alone or combining it with other features to reduce this scatter. I do thing it does get the general shape really well. There are signing of overfitting as we are predicting outliers at times but overall I am very happy with the graph.\n",
    "\n"
   ]
  },
  {
   "cell_type": "markdown",
   "id": "8ba17540",
   "metadata": {},
   "source": [
    "# Headshot predicting ACS "
   ]
  },
  {
   "cell_type": "code",
   "execution_count": 104,
   "id": "923a16e2",
   "metadata": {},
   "outputs": [],
   "source": [
    "X_np = dataNN[['HS%']].to_numpy()\n",
    "y_np = dataNN['ACS'].to_numpy()"
   ]
  },
  {
   "cell_type": "code",
   "execution_count": 105,
   "id": "375474ff",
   "metadata": {},
   "outputs": [],
   "source": [
    "scaler = StandardScaler()\n",
    "X_scaled = scaler.fit_transform(X_np)  \n",
    "\n",
    "X_train, X_test, y_train, y_test = train_test_split(\n",
    "    X_scaled, y_np, test_size=0.2, random_state=42\n",
    ")\n",
    "\n",
    "X_train = torch.tensor(X_train, dtype=torch.float32)\n",
    "X_test  = torch.tensor(X_test,  dtype=torch.float32)\n",
    "y_train = torch.tensor(y_train, dtype=torch.float32).unsqueeze(1)\n",
    "y_test  = torch.tensor(y_test,  dtype=torch.float32).unsqueeze(1)"
   ]
  },
  {
   "cell_type": "code",
   "execution_count": 106,
   "id": "7bf9dff7",
   "metadata": {},
   "outputs": [],
   "source": [
    "model_2 = nn.Sequential(\n",
    "    nn.Linear(1, 16),  \n",
    "    nn.ReLU(),\n",
    "    nn.Linear(16, 8),  \n",
    "    nn.ReLU(),\n",
    "    nn.Linear(8, 1)\n",
    ")"
   ]
  },
  {
   "cell_type": "code",
   "execution_count": 107,
   "id": "992f9655",
   "metadata": {},
   "outputs": [],
   "source": [
    "loss_fn = nn.MSELoss()\n",
    "optimizer = torch.optim.SGD(model_1.parameters(), lr=0.0001)"
   ]
  },
  {
   "cell_type": "code",
   "execution_count": 108,
   "id": "4caa392b",
   "metadata": {},
   "outputs": [],
   "source": [
    "model_2 = model_2.float()"
   ]
  },
  {
   "cell_type": "code",
   "execution_count": 109,
   "id": "fd1ef0ab",
   "metadata": {},
   "outputs": [
    {
     "name": "stdout",
     "output_type": "stream",
     "text": [
      "Epoch:     0 | Train loss: 38495.21094, Test loss: 38817.00000\n",
      "Epoch:   200 | Train loss: 38495.21094, Test loss: 38817.00000\n",
      "Epoch:   400 | Train loss: 38495.21094, Test loss: 38817.00000\n",
      "Epoch:   600 | Train loss: 38495.21094, Test loss: 38817.00000\n",
      "Epoch:   800 | Train loss: 38495.21094, Test loss: 38817.00000\n",
      "Epoch:  1000 | Train loss: 38495.21094, Test loss: 38817.00000\n",
      "Epoch:  1200 | Train loss: 38495.21094, Test loss: 38817.00000\n",
      "Epoch:  1400 | Train loss: 38495.21094, Test loss: 38817.00000\n",
      "Epoch:  1600 | Train loss: 38495.21094, Test loss: 38817.00000\n",
      "Epoch:  1800 | Train loss: 38495.21094, Test loss: 38817.00000\n",
      "Epoch:  2000 | Train loss: 38495.21094, Test loss: 38817.00000\n",
      "Epoch:  2200 | Train loss: 38495.21094, Test loss: 38817.00000\n",
      "Epoch:  2400 | Train loss: 38495.21094, Test loss: 38817.00000\n",
      "Epoch:  2600 | Train loss: 38495.21094, Test loss: 38817.00000\n",
      "Epoch:  2800 | Train loss: 38495.21094, Test loss: 38817.00000\n",
      "Epoch:  3000 | Train loss: 38495.21094, Test loss: 38817.00000\n",
      "Epoch:  3200 | Train loss: 38495.21094, Test loss: 38817.00000\n",
      "Epoch:  3400 | Train loss: 38495.21094, Test loss: 38817.00000\n",
      "Epoch:  3600 | Train loss: 38495.21094, Test loss: 38817.00000\n",
      "Epoch:  3800 | Train loss: 38495.21094, Test loss: 38817.00000\n",
      "Epoch:  4000 | Train loss: 38495.21094, Test loss: 38817.00000\n",
      "Epoch:  4200 | Train loss: 38495.21094, Test loss: 38817.00000\n",
      "Epoch:  4400 | Train loss: 38495.21094, Test loss: 38817.00000\n",
      "Epoch:  4600 | Train loss: 38495.21094, Test loss: 38817.00000\n",
      "Epoch:  4800 | Train loss: 38495.21094, Test loss: 38817.00000\n",
      "Epoch:  5000 | Train loss: 38495.21094, Test loss: 38817.00000\n",
      "Epoch:  5200 | Train loss: 38495.21094, Test loss: 38817.00000\n",
      "Epoch:  5400 | Train loss: 38495.21094, Test loss: 38817.00000\n",
      "Epoch:  5600 | Train loss: 38495.21094, Test loss: 38817.00000\n",
      "Epoch:  5800 | Train loss: 38495.21094, Test loss: 38817.00000\n",
      "Epoch:  6000 | Train loss: 38495.21094, Test loss: 38817.00000\n",
      "Epoch:  6200 | Train loss: 38495.21094, Test loss: 38817.00000\n",
      "Epoch:  6400 | Train loss: 38495.21094, Test loss: 38817.00000\n",
      "Epoch:  6600 | Train loss: 38495.21094, Test loss: 38817.00000\n",
      "Epoch:  6800 | Train loss: 38495.21094, Test loss: 38817.00000\n",
      "Epoch:  7000 | Train loss: 38495.21094, Test loss: 38817.00000\n",
      "Epoch:  7200 | Train loss: 38495.21094, Test loss: 38817.00000\n",
      "Epoch:  7400 | Train loss: 38495.21094, Test loss: 38817.00000\n",
      "Epoch:  7600 | Train loss: 38495.21094, Test loss: 38817.00000\n",
      "Epoch:  7800 | Train loss: 38495.21094, Test loss: 38817.00000\n",
      "Epoch:  8000 | Train loss: 38495.21094, Test loss: 38817.00000\n",
      "Epoch:  8200 | Train loss: 38495.21094, Test loss: 38817.00000\n",
      "Epoch:  8400 | Train loss: 38495.21094, Test loss: 38817.00000\n",
      "Epoch:  8600 | Train loss: 38495.21094, Test loss: 38817.00000\n",
      "Epoch:  8800 | Train loss: 38495.21094, Test loss: 38817.00000\n",
      "Epoch:  9000 | Train loss: 38495.21094, Test loss: 38817.00000\n"
     ]
    }
   ],
   "source": [
    "epochs = 9200\n",
    "for epoch in range(epochs):\n",
    "    model_1.train()\n",
    "    y_pred = model_2(X_train)                      \n",
    "    loss = loss_fn(y_pred, y_train)               \n",
    "\n",
    "    optimizer.zero_grad()                        \n",
    "    loss.backward()                                \n",
    "    optimizer.step()                           \n",
    "\n",
    "    model_2.eval()\n",
    "    with torch.inference_mode():\n",
    "        test_pred = model_2(X_test)\n",
    "        test_loss = loss_fn(test_pred, y_test)\n",
    "\n",
    "    if epoch % 200 == 0:\n",
    "        print(f\"Epoch: {epoch:5d} | Train loss: {loss:.5f}, Test loss: {test_loss:.5f}\")"
   ]
  },
  {
   "cell_type": "code",
   "execution_count": 110,
   "id": "eafe2994",
   "metadata": {},
   "outputs": [],
   "source": [
    "model_2.eval()\n",
    "with torch.inference_mode():\n",
    "    y_preds = model_2(X_test)\n"
   ]
  },
  {
   "cell_type": "code",
   "execution_count": 112,
   "id": "7ac44edf",
   "metadata": {},
   "outputs": [],
   "source": [
    "def plot_predictions(train_data=X_train,\n",
    "                     train_labels=y_train,\n",
    "                     test_data=X_test,\n",
    "                     test_labels=y_test,\n",
    "                     predictions=None):\n",
    "  \"\"\"\n",
    "  Plots training data, test data and compares predictions.\n",
    "  \"\"\"\n",
    "\n",
    "  # Plot training data in blue\n",
    "  plt.scatter(train_data, train_labels, c=\"b\", s=4, label=\"Training data\")\n",
    "\n",
    "  # Plot test data in green\n",
    "  plt.scatter(test_data, test_labels, c=\"g\", s=4, label=\"Testing data\")\n",
    "\n",
    "  if predictions is not None:\n",
    "    # Plot the predictions in red (predictions were made on the test data)\n",
    "    plt.scatter(test_data, predictions, c=\"r\", s=4, label=\"Predictions\")\n",
    "\n",
    "  # Show the legend\n",
    "  plt.legend(prop={\"size\": 14});"
   ]
  },
  {
   "cell_type": "code",
   "execution_count": 113,
   "id": "6254c531",
   "metadata": {},
   "outputs": [
    {
     "data": {
      "image/png": "[encoded data removed]",
      "text/plain": [
       "<Figure size 640x480 with 1 Axes>"
      ]
     },
     "metadata": {},
     "output_type": "display_data"
    }
   ],
   "source": [
    "model_2.eval()\n",
    "\n",
    "# Make predictions (inference)\n",
    "with torch.inference_mode():\n",
    "    y_preds = model_2(X_test)\n",
    "\n",
    "# Plot data and predictions\n",
    "plot_predictions(predictions=y_preds);"
   ]
  },
  {
   "cell_type": "code",
   "execution_count": 111,
   "id": "c0527e14",
   "metadata": {},
   "outputs": [
    {
     "data": {
      "text/plain": [
       "<matplotlib.collections.PathCollection at 0x1dfdd9cc140>"
      ]
     },
     "execution_count": 111,
     "metadata": {},
     "output_type": "execute_result"
    },
    {
     "data": {
      "image/png": "[encoded data removed]",
      "text/plain": [
       "<Figure size 640x480 with 1 Axes>"
      ]
     },
     "metadata": {},
     "output_type": "display_data"
    }
   ],
   "source": [
    "plt.scatter(X_test.detach().numpy(),y_preds.detach().numpy())\n",
    "\n",
    "#plots test data\n",
    "plt.scatter(X_test.detach().numpy(),y_test.detach().numpy())"
   ]
  },
  {
   "cell_type": "markdown",
   "id": "031719f3",
   "metadata": {},
   "source": [
    "The third figure plots Headshot % against ACS. Here, the predicted is  horizontal there’s barely any trend. In other words, headshot rate alone explains very little of the variance in ACS. The model recognizes this by assigning a zero slope, so it essentially ignores headshot % when making its predictions. This confirms that accuracy of shots matters less than sheer volume of damage and kills for driving ACS. This makes sense when I think about it more because while a high headshot% means you will be good at duels, that isn't the majority of fights taken in Valorant. It is game where you are supposed to use your utility effectivly to get kills. So a high headshot would matter less if you are constantly taking fights where you are stunned or blinded by good enemy utility. Also spraying through smokes is an effective way to get kills as you could hear footstep of people behind smokes and shooting through the smoke would allowing you to deal damage to them, if you get lucky then you could get a kill. This strategy reduces your headshot percentage a lot because since the enemy is blocked off by a smoke, it is hard to hit their head. \n",
    "\n"
   ]
  },
  {
   "cell_type": "markdown",
   "id": "ff22758a",
   "metadata": {},
   "source": [
    "# Conclusion"
   ]
  },
  {
   "cell_type": "markdown",
   "id": "6a30fa68",
   "metadata": {},
   "source": [
    "Overall, the two input network combining ADPR and KPR succeeds in capturing the relationship with ACS, the predictions track the rise in damage and kills per round for most mid-range values yet there are some problems with the tails and overfitting. In contrast, the single-input headshot-percentage network learns virtually no slope confirming that shot accuracy alone offers almost no explanatory power. Taken together, these results show that ADPR is the strongest predictor of ACS, KPR adds useful but noisy signal, and headshot rate contributes negligibly when isolated. "
   ]
  }
 ],
 "metadata": {
  "kernelspec": {
   "display_name": "jupyter",
   "language": "python",
   "name": "python3"
  },
  "language_info": {
   "codemirror_mode": {
    "name": "ipython",
    "version": 3
   },
   "file_extension": ".py",
   "mimetype": "text/x-python",
   "name": "python",
   "nbconvert_exporter": "python",
   "pygments_lexer": "ipython3",
   "version": "3.12.3"
  }
 },
 "nbformat": 4,
 "nbformat_minor": 5
}
